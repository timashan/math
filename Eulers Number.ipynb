{
 "cells": [
  {
   "cell_type": "markdown",
   "id": "aa7ce30e",
   "metadata": {},
   "source": [
    "# Euler's Number\n",
    "\n",
    "Maximum compounding growth of 100% over a 1 time period\\\n",
    "ex: Growing $$ by increasing periods\n",
    "\n",
    "e = $(1 + \\frac{1}{n})^n$\n",
    "\n",
    "e $\\approx$ 2.71828\n",
    "\n",
    "irrational number (frac goes on 4ver)\\\n",
    "natural language of growth"
   ]
  },
  {
   "cell_type": "code",
   "execution_count": 1,
   "id": "4147a1a3",
   "metadata": {},
   "outputs": [
    {
     "name": "stdout",
     "output_type": "stream",
     "text": [
      "\n",
      "2\n",
      "2.25\n",
      "2.44140625\n",
      "\n"
     ]
    }
   ],
   "source": [
    "print(f\"\"\"\n",
    "{1 + 1}\n",
    "{1 + 0.5 + 0.75}\n",
    "{1 + 0.25 + 0.3125 + 0.390625 + 0.48828125}\n",
    "\"\"\")"
   ]
  },
  {
   "cell_type": "code",
   "execution_count": 46,
   "id": "84980401",
   "metadata": {},
   "outputs": [
    {
     "name": "stdout",
     "output_type": "stream",
     "text": [
      "2.0\n",
      "2.25\n",
      "2.44140625\n",
      "2.613035290224676\n",
      "2.7048138294215285\n",
      "2.7145674820219727\n",
      "2.7169239322355936\n",
      "2.7181459268249255\n",
      "2.7182804690957534\n"
     ]
    }
   ],
   "source": [
    "for n in [1, 2, 4, 12, 100, 365, 1000, 10000, 1000000]:\n",
    "    e = (1 + 1/n) ** n\n",
    "    print(e)"
   ]
  },
  {
   "cell_type": "code",
   "execution_count": 64,
   "id": "2b993b0d",
   "metadata": {},
   "outputs": [
    {
     "data": {
      "text/plain": [
       "0.00031645569620253165"
      ]
     },
     "execution_count": 64,
     "metadata": {},
     "output_type": "execute_result"
    }
   ],
   "source": [
    "1/sum(range(1,80))"
   ]
  },
  {
   "cell_type": "markdown",
   "id": "8619059d",
   "metadata": {},
   "source": [
    "Changing growth & time period\n",
    "\n",
    "$e^{rt}$ \n",
    "\n",
    "Ex: 200% over 5 years\\\n",
    "$e^{2 \\times 5}$ = $e^{10}$ = 27.182"
   ]
  }
 ],
 "metadata": {
  "kernelspec": {
   "display_name": "Python 3 (ipykernel)",
   "language": "python",
   "name": "python3"
  },
  "language_info": {
   "codemirror_mode": {
    "name": "ipython",
    "version": 3
   },
   "file_extension": ".py",
   "mimetype": "text/x-python",
   "name": "python",
   "nbconvert_exporter": "python",
   "pygments_lexer": "ipython3",
   "version": "3.11.5"
  }
 },
 "nbformat": 4,
 "nbformat_minor": 5
}
