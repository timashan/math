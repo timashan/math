{
 "cells": [
  {
   "cell_type": "markdown",
   "id": "65ec67d4",
   "metadata": {},
   "source": [
    "$$Math$$\n",
    "\n",
    "~strike~\n",
    "\n",
    "~apple~\n",
    "\n",
    "$\\frac{1}{2}$\n",
    "\n",
    "$\\hat{a}$\n",
    "\n",
    "$\\underline{5}$\n",
    "\n",
    "$a^2_1$\n",
    "\n",
    "$\\sqrt{2}$\n",
    "\n",
    "$\\epsilon$"
   ]
  }
 ],
 "metadata": {
  "kernelspec": {
   "display_name": "Python 3 (ipykernel)",
   "language": "python",
   "name": "python3"
  },
  "language_info": {
   "codemirror_mode": {
    "name": "ipython",
    "version": 3
   },
   "file_extension": ".py",
   "mimetype": "text/x-python",
   "name": "python",
   "nbconvert_exporter": "python",
   "pygments_lexer": "ipython3",
   "version": "3.11.5"
  }
 },
 "nbformat": 4,
 "nbformat_minor": 5
}
